{
 "cells": [
  {
   "cell_type": "markdown",
   "id": "continued-canvas",
   "metadata": {
    "papermill": {
     "duration": 0.0086,
     "end_time": "2021-06-04T13:13:03.906893",
     "exception": false,
     "start_time": "2021-06-04T13:13:03.898293",
     "status": "completed"
    },
    "tags": []
   },
   "source": [
    "# Introduction\n",
    "\n",
    "When applying machine learning to real-world data, there are a lot of steps involved in the process -- starting with collecting the data and ending with generating predictions.  (*We work with the seven steps of machine learning, as defined by Yufeng Guo **[here](https://towardsdatascience.com/the-7-steps-of-machine-learning-2877d7e5548e)**.*)\n",
    "\n",
    "![](https://i.imgur.com/mqTCqBR.png)\n",
    "\n",
    "It all begins with **Step 1: Gather the data**.  In industry, there are important considerations you need to take into account when building a dataset, such as **[target leakage](https://www.kaggle.com/alexisbcook/data-leakage)**. When participating in a Kaggle competition, this step is already completed for you.\n",
    "\n",
    "In the **[Intro to Machine Learning](https://www.kaggle.com/learn/intro-to-machine-learning)** and the **[Intermediate Machine Learning](https://www.kaggle.com/learn/intermediate-machine-learning)** courses, you can learn how to:\n",
    "- **Step 2: Prepare the data** - Deal with [missing values](https://www.kaggle.com/alexisbcook/missing-values) and [categorical data](https://www.kaggle.com/alexisbcook/categorical-variables).  ([Feature engineering](https://www.kaggle.com/learn/feature-engineering) is covered in a separate course.)\n",
    "- **Step 4: Train the model** - Fit [decision trees](https://www.kaggle.com/dansbecker/your-first-machine-learning-model) and [random forests](https://www.kaggle.com/dansbecker/random-forests) to patterns in training data.\n",
    "- **Step 5: Evaluate the model** - Use a [validation set](https://www.kaggle.com/dansbecker/model-validation) to assess how well a trained model performs on unseen data.\n",
    "- **Step 6: Tune parameters** - Tune parameters to get better performance from [XGBoost](https://www.kaggle.com/alexisbcook/xgboost) models.\n",
    "- **Step 7: Get predictions** - Generate predictions with a trained model and [submit your results to a Kaggle competition](https://www.kaggle.com/kernels/fork/1259198).\n",
    "\n",
    "That leaves **Step 3: Select a model**.  There are _a lot_ of different types of models.  Which one should you select for your problem?  When you're just getting started, the best option is just to try everything and build your own intuition - there aren't any universally accepted rules.  There are also many useful Kaggle notebooks (like **[this one](https://www.kaggle.com/vbmokin/data-science-for-tabular-data-advanced-techniques)**) where you can see how and when other Kagglers used different models.\n",
    "\n",
    "Mastering the machine learning process involves a lot of time and practice.  While you're still learning, you can turn to **automated machine learning (AutoML) tools** to generate intelligent predictions."
   ]
  },
  {
   "cell_type": "markdown",
   "id": "technological-disaster",
   "metadata": {
    "papermill": {
     "duration": 0.007217,
     "end_time": "2021-06-04T13:13:03.921814",
     "exception": false,
     "start_time": "2021-06-04T13:13:03.914597",
     "status": "completed"
    },
    "tags": []
   },
   "source": [
    "# Automated machine learning (AutoML)\n",
    "\n",
    "In this notebook, you'll learn how to use [**Google Cloud AutoML Tables**](https://cloud.google.com/automl-tables/docs/beginners-guide) to automate the machine learning process.  While Kaggle has already taken care of the data collection, AutoML Tables will take care of all remaining steps.\n",
    "\n",
    "![](https://i.imgur.com/5SekA3O.png)"
   ]
  },
  {
   "cell_type": "markdown",
   "id": "extra-infrared",
   "metadata": {
    "papermill": {
     "duration": 0.007218,
     "end_time": "2021-06-04T13:13:03.936138",
     "exception": false,
     "start_time": "2021-06-04T13:13:03.928920",
     "status": "completed"
    },
    "tags": []
   },
   "source": [
    "AutoML Tables is a **paid service**.  In the exercise that follows this tutorial, we'll show you how to claim $300 of free credits that you can use to train your own models!\n",
    "\n",
    "<div class=\"alert alert-block alert-info\">\n",
    "<b>Note</b>: This lesson is <b>optional</b>. It is not required to complete the <b><a href=\"https://www.kaggle.com/learn/intro-to-machine-learning\">Intro to Machine Learning</a></b> course.\n",
    "</div><br> "
   ]
  },
  {
   "cell_type": "markdown",
   "id": "arabic-venezuela",
   "metadata": {
    "papermill": {
     "duration": 0.007118,
     "end_time": "2021-06-04T13:13:03.950749",
     "exception": false,
     "start_time": "2021-06-04T13:13:03.943631",
     "status": "completed"
    },
    "tags": []
   },
   "source": [
    "# Code\n",
    "\n",
    "We'll work with data from the **[New York City Taxi Fare Prediction](https://www.kaggle.com/c/new-york-city-taxi-fare-prediction)** competition.  In this competition, we want you to predict the fare amount (inclusive of tolls) for a taxi ride in New York City, given the pickup and dropoff locations, number of passengers, and the pickup date and time.\n",
    "\n",
    "To do this, we'll use a **[Python class](https://www.kaggle.com/alexisbcook/automl-tables-wrapper)** that calls on AutoML Tables.  To use this code, you need only define the following variables:\n",
    "- `PROJECT_ID` - The name of your [Google Cloud project](https://cloud.google.com/resource-manager/docs/creating-managing-projects).  All of the work that you'll do in Google Cloud is organized in \"projects\".  \n",
    "- `BUCKET_NAME` - The name of your [Google Cloud storage bucket](https://cloud.google.com/storage/docs/creating-buckets).  In order to work with AutoML, we'll need to create a storage bucket, where we'll upload the Kaggle dataset.\n",
    "- `DATASET_DISPLAY_NAME` - The name of your dataset.  \n",
    "- `TRAIN_FILEPATH` - The filepath for the training data (`train.csv` file) from the competition.\n",
    "- `TEST_FILEPATH` - The filepath for the test data (`test.csv` file) from the competition.\n",
    "- `TARGET_COLUMN` - The name of the column in your training data that contains the values you'd like to predict.\n",
    "- `ID_COLUMN` - The name of the column containing IDs.\n",
    "- `MODEL_DISPLAY_NAME` - The name of your model.\n",
    "- `TRAIN_BUDGET` - How long you want your model to train (use 1000 for 1 hour, 2000 for 2 hours, and so on).\n",
    "\n",
    "All of these variables will make more sense when you run your own code in the following exercise!"
   ]
  },
  {
   "cell_type": "code",
   "execution_count": 1,
   "id": "modified-samuel",
   "metadata": {
    "_kg_hide-input": true,
    "execution": {
     "iopub.execute_input": "2021-06-04T13:13:03.969611Z",
     "iopub.status.busy": "2021-06-04T13:13:03.968514Z",
     "iopub.status.idle": "2021-06-04T13:13:28.089632Z",
     "shell.execute_reply": "2021-06-04T13:13:28.088468Z"
    },
    "papermill": {
     "duration": 24.131548,
     "end_time": "2021-06-04T13:13:28.089795",
     "exception": false,
     "start_time": "2021-06-04T13:13:03.958247",
     "status": "completed"
    },
    "tags": []
   },
   "outputs": [],
   "source": [
    "\n",
    "# Save CSV file with first 2 million rows only\n",
    "import pandas as pd\n",
    "train_df = pd.read_csv(\"../input/new-york-city-taxi-fare-prediction/train.csv\", nrows = 2_000_000)\n",
    "train_df.to_csv(\"train_small.csv\", index=False)"
   ]
  },
  {
   "cell_type": "code",
   "execution_count": 2,
   "id": "alone-signal",
   "metadata": {
    "execution": {
     "iopub.execute_input": "2021-06-04T13:13:28.111517Z",
     "iopub.status.busy": "2021-06-04T13:13:28.110839Z",
     "iopub.status.idle": "2021-06-04T13:14:17.562672Z",
     "shell.execute_reply": "2021-06-04T13:14:17.562115Z"
    },
    "papermill": {
     "duration": 49.464913,
     "end_time": "2021-06-04T13:14:17.562803",
     "exception": false,
     "start_time": "2021-06-04T13:13:28.097890",
     "status": "completed"
    },
    "tags": []
   },
   "outputs": [
    {
     "name": "stdout",
     "output_type": "stream",
     "text": [
      "Preparing clients ...\n",
      "Clients successfully created!\n",
      "GCS bucket found.\n",
      "File train.csv uploaded to train.csv.\n",
      "File test.csv uploaded to test.csv.\n",
      "Dataset found.\n",
      "Set target column.\n",
      "Set columns to nullable.\n",
      "Ready to train model.\n"
     ]
    }
   ],
   "source": [
    "PROJECT_ID = 'kaggle-playground-170215'\n",
    "BUCKET_NAME = 'automl-tutorial-alexis'\n",
    "\n",
    "DATASET_DISPLAY_NAME = 'taxi_fare_dataset'\n",
    "TRAIN_FILEPATH = \"../working/train_small.csv\" \n",
    "TEST_FILEPATH = \"../input/new-york-city-taxi-fare-prediction/test.csv\"\n",
    "\n",
    "TARGET_COLUMN = 'fare_amount'\n",
    "ID_COLUMN = 'key'\n",
    "\n",
    "MODEL_DISPLAY_NAME = 'tutorial_model'\n",
    "TRAIN_BUDGET = 4000\n",
    "\n",
    "# Import the class defining the wrapper\n",
    "from automl_tables_wrapper import AutoMLTablesWrapper\n",
    "\n",
    "# Create an instance of the wrapper\n",
    "amw = AutoMLTablesWrapper(project_id=PROJECT_ID,\n",
    "                          bucket_name=BUCKET_NAME,\n",
    "                          dataset_display_name=DATASET_DISPLAY_NAME,\n",
    "                          train_filepath=TRAIN_FILEPATH,\n",
    "                          test_filepath=TEST_FILEPATH,\n",
    "                          target_column=TARGET_COLUMN,\n",
    "                          id_column=ID_COLUMN,\n",
    "                          model_display_name=MODEL_DISPLAY_NAME,\n",
    "                          train_budget=TRAIN_BUDGET)"
   ]
  },
  {
   "cell_type": "markdown",
   "id": "chicken-match",
   "metadata": {
    "papermill": {
     "duration": 0.008854,
     "end_time": "2021-06-04T13:14:17.580871",
     "exception": false,
     "start_time": "2021-06-04T13:14:17.572017",
     "status": "completed"
    },
    "tags": []
   },
   "source": [
    "Next, we train a model and use it to generate predictions on the test dataset."
   ]
  },
  {
   "cell_type": "code",
   "execution_count": 3,
   "id": "enhanced-powell",
   "metadata": {
    "execution": {
     "iopub.execute_input": "2021-06-04T13:14:17.603183Z",
     "iopub.status.busy": "2021-06-04T13:14:17.602584Z",
     "iopub.status.idle": "2021-06-04T17:42:12.969075Z",
     "shell.execute_reply": "2021-06-04T17:42:12.969716Z"
    },
    "papermill": {
     "duration": 16075.380882,
     "end_time": "2021-06-04T17:42:12.970525",
     "exception": false,
     "start_time": "2021-06-04T13:14:17.589643",
     "status": "completed"
    },
    "tags": []
   },
   "outputs": [
    {
     "name": "stdout",
     "output_type": "stream",
     "text": [
      "Training model ...\n",
      "Finished training model.\n",
      "Getting predictions ...\n",
      "Submission ready for download!\n"
     ]
    }
   ],
   "source": [
    "# Create and train the model\n",
    "amw.train_model()\n",
    "\n",
    "# Get predictions\n",
    "amw.get_predictions()"
   ]
  },
  {
   "cell_type": "markdown",
   "id": "useful-bachelor",
   "metadata": {
    "papermill": {
     "duration": 0.010168,
     "end_time": "2021-06-04T17:42:12.991831",
     "exception": false,
     "start_time": "2021-06-04T17:42:12.981663",
     "status": "completed"
    },
    "tags": []
   },
   "source": [
    "After completing these steps, we have a file that we can submit to the competition!  In the code cell below, we load this submission file and view the first several rows."
   ]
  },
  {
   "cell_type": "code",
   "execution_count": 4,
   "id": "japanese-delivery",
   "metadata": {
    "execution": {
     "iopub.execute_input": "2021-06-04T17:42:13.018341Z",
     "iopub.status.busy": "2021-06-04T17:42:13.017390Z",
     "iopub.status.idle": "2021-06-04T17:42:13.065937Z",
     "shell.execute_reply": "2021-06-04T17:42:13.066430Z"
    },
    "papermill": {
     "duration": 0.064541,
     "end_time": "2021-06-04T17:42:13.066585",
     "exception": false,
     "start_time": "2021-06-04T17:42:13.002044",
     "status": "completed"
    },
    "tags": []
   },
   "outputs": [
    {
     "data": {
      "text/html": [
       "<div>\n",
       "<style scoped>\n",
       "    .dataframe tbody tr th:only-of-type {\n",
       "        vertical-align: middle;\n",
       "    }\n",
       "\n",
       "    .dataframe tbody tr th {\n",
       "        vertical-align: top;\n",
       "    }\n",
       "\n",
       "    .dataframe thead th {\n",
       "        text-align: right;\n",
       "    }\n",
       "</style>\n",
       "<table border=\"1\" class=\"dataframe\">\n",
       "  <thead>\n",
       "    <tr style=\"text-align: right;\">\n",
       "      <th></th>\n",
       "      <th>key</th>\n",
       "      <th>fare_amount</th>\n",
       "    </tr>\n",
       "  </thead>\n",
       "  <tbody>\n",
       "    <tr>\n",
       "      <th>0</th>\n",
       "      <td>2012-11-03 17:11:00.00000069</td>\n",
       "      <td>11.240405</td>\n",
       "    </tr>\n",
       "    <tr>\n",
       "      <th>1</th>\n",
       "      <td>2011-06-01 07:37:00.00000036</td>\n",
       "      <td>6.535698</td>\n",
       "    </tr>\n",
       "    <tr>\n",
       "      <th>2</th>\n",
       "      <td>2014-04-27 02:57:00.00000012</td>\n",
       "      <td>6.091896</td>\n",
       "    </tr>\n",
       "    <tr>\n",
       "      <th>3</th>\n",
       "      <td>2011-12-13 22:00:00.000000189</td>\n",
       "      <td>6.235514</td>\n",
       "    </tr>\n",
       "    <tr>\n",
       "      <th>4</th>\n",
       "      <td>2010-08-14 02:13:00.00000026</td>\n",
       "      <td>13.023638</td>\n",
       "    </tr>\n",
       "  </tbody>\n",
       "</table>\n",
       "</div>"
      ],
      "text/plain": [
       "                             key  fare_amount\n",
       "0   2012-11-03 17:11:00.00000069    11.240405\n",
       "1   2011-06-01 07:37:00.00000036     6.535698\n",
       "2   2014-04-27 02:57:00.00000012     6.091896\n",
       "3  2011-12-13 22:00:00.000000189     6.235514\n",
       "4   2010-08-14 02:13:00.00000026    13.023638"
      ]
     },
     "execution_count": 4,
     "metadata": {},
     "output_type": "execute_result"
    }
   ],
   "source": [
    "submission_df = pd.read_csv(\"../working/submission.csv\")\n",
    "submission_df.head()"
   ]
  },
  {
   "cell_type": "markdown",
   "id": "molecular-storage",
   "metadata": {
    "papermill": {
     "duration": 0.013703,
     "end_time": "2021-06-04T17:42:13.091232",
     "exception": false,
     "start_time": "2021-06-04T17:42:13.077529",
     "status": "completed"
    },
    "tags": []
   },
   "source": [
    "\n",
    "And how well does it perform?  Well, the competition provides a **[starter notebook](https://www.kaggle.com/dster/nyc-taxi-fare-starter-kernel-simple-linear-model)** with a simple linear model that predicts a fare amount based on the distance between the pickup and dropoff locations.  This approach outperforms that notebook, and it ranks better than roughly half of the total submissions to the competition.\n",
    "\n",
    "# Keep going\n",
    "\n",
    "Run your own code using AutoML Tables to **[make a submission to a Kaggle competition](https://www.kaggle.com/kernels/fork/10027938)**!"
   ]
  },
  {
   "cell_type": "markdown",
   "id": "satisfied-dylan",
   "metadata": {
    "papermill": {
     "duration": 0.010542,
     "end_time": "2021-06-04T17:42:13.112512",
     "exception": false,
     "start_time": "2021-06-04T17:42:13.101970",
     "status": "completed"
    },
    "tags": []
   },
   "source": [
    "---\n",
    "\n",
    "\n",
    "\n",
    "\n",
    "*Have questions or comments? Visit the [Learn Discussion forum](https://www.kaggle.com/learn-forum/161285) to chat with other Learners.*"
   ]
  }
 ],
 "metadata": {
  "kernelspec": {
   "display_name": "Python 3",
   "language": "python",
   "name": "python3"
  },
  "language_info": {
   "codemirror_mode": {
    "name": "ipython",
    "version": 3
   },
   "file_extension": ".py",
   "mimetype": "text/x-python",
   "name": "python",
   "nbconvert_exporter": "python",
   "pygments_lexer": "ipython3",
   "version": "3.7.9"
  },
  "papermill": {
   "default_parameters": {},
   "duration": 16157.764176,
   "end_time": "2021-06-04T17:42:15.692279",
   "environment_variables": {},
   "exception": null,
   "input_path": "__notebook__.ipynb",
   "output_path": "__notebook__.ipynb",
   "parameters": {},
   "start_time": "2021-06-04T13:12:57.928103",
   "version": "2.3.2"
  }
 },
 "nbformat": 4,
 "nbformat_minor": 5
}
